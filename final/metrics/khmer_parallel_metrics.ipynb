{
 "metadata": {
  "celltoolbar": "Slideshow",
  "name": "",
  "signature": "sha256:7dce79530087e8847e26bec5d7dc9a2e03e6e7d56a91ebdce9e5ccc9643ab379"
 },
 "nbformat": 3,
 "nbformat_minor": 0,
 "worksheets": [
  {
   "cells": [
    {
     "cell_type": "markdown",
     "metadata": {
      "slideshow": {
       "slide_type": "slide"
      }
     },
     "source": [
      "# khmer Parallel Performance Metrics\n",
      "#### Camille Scott\n",
      "#### Michigan State University\n",
      "#### GED Lab\n",
      "#### https://github.com/camillescott\n",
      "\n",
      "*khmer source code*: https://github.com/ged-lab/khmer\n",
      "\n",
      "*this notebook*: https://github.com/camillescott/fs2014-cse891/tree/master/final"
     ]
    },
    {
     "cell_type": "code",
     "collapsed": false,
     "input": [
      "%pylab inline"
     ],
     "language": "python",
     "metadata": {
      "slideshow": {
       "slide_type": "skip"
      }
     },
     "outputs": [
      {
       "output_type": "stream",
       "stream": "stdout",
       "text": [
        "Populating the interactive namespace from numpy and matplotlib\n"
       ]
      }
     ],
     "prompt_number": 1
    },
    {
     "cell_type": "code",
     "collapsed": false,
     "input": [
      "import khmer\n",
      "import screed\n",
      "import peasoup\n",
      "import seaborn as sns\n",
      "import pandas as pd\n",
      "from IPython.display import FileLink\n",
      "\n",
      "import warnings\n",
      "warnings.filterwarnings(\"ignore\",category=DeprecationWarning)\n",
      "warnings.filterwarnings(\"ignore\",category=UserWarning)"
     ],
     "language": "python",
     "metadata": {
      "slideshow": {
       "slide_type": "skip"
      }
     },
     "outputs": [],
     "prompt_number": 2
    },
    {
     "cell_type": "code",
     "collapsed": false,
     "input": [
      "tall_size = (12,24)\n",
      "norm_size = (18,12)\n",
      "mpl_params = {'axes.titlesize': 24,\n",
      "               'axes.labelsize': 20,\n",
      "               'ytick.labelsize': 18,\n",
      "               'xtick.labelsize': 18\n",
      "               }\n",
      "sns.set(style='ticks', rc=mpl_params)\n",
      "%config InlineBackend.close_figures = False"
     ],
     "language": "python",
     "metadata": {
      "slideshow": {
       "slide_type": "skip"
      }
     },
     "outputs": [],
     "prompt_number": 3
    },
    {
     "cell_type": "markdown",
     "metadata": {
      "slideshow": {
       "slide_type": "slide"
      }
     },
     "source": [
      "## Generate Test Data\n",
      "\n",
      "Here, we'll generate some random test sequences of different sizes:\n",
      "\n",
      "1. Small (1,000 sequences of length 100)\n",
      "2. Medium (10,000 sequences of length 100)\n",
      "3. Large (100,000 sequences of length 100)"
     ]
    },
    {
     "cell_type": "code",
     "collapsed": false,
     "input": [
      "test_files = [(1000, 'test-small.fa'), (10000, 'test-medium.fa'), (100000, 'test-large.fa')]\n",
      "for N, fn in test_files:\n",
      "    !make-random-transcriptome.py -N {N} -L 100 -o {fn}"
     ],
     "language": "python",
     "metadata": {
      "slideshow": {
       "slide_type": "fragment"
      }
     },
     "outputs": [],
     "prompt_number": 4
    },
    {
     "cell_type": "code",
     "collapsed": false,
     "input": [
      "%ls -sh"
     ],
     "language": "python",
     "metadata": {
      "slideshow": {
       "slide_type": "fragment"
      }
     },
     "outputs": [
      {
       "output_type": "stream",
       "stream": "stdout",
       "text": [
        "total 12M\r\n",
        " 12K khmer_parallel_metrics.ipynb   48K single_threaded_time.pdf   56K \u001b[0m\u001b[01;35msingle_threaded_time.svg\u001b[0m  1.1M test-medium.fa               108K test-small.fa\r\n",
        " 40K single_threaded_time.eps       36K \u001b[01;35msingle_threaded_time.png\u001b[0m   11M test-large.fa             4.0K test_readparser_threaded.py\r\n"
       ]
      }
     ],
     "prompt_number": 5
    },
    {
     "cell_type": "markdown",
     "metadata": {
      "slideshow": {
       "slide_type": "slide"
      }
     },
     "source": [
      "## Test Read Parsing\n",
      "\n",
      "First, let's test `screed` and `khmer.ReadParser` in a naive, single-threaded manner."
     ]
    },
    {
     "cell_type": "code",
     "collapsed": false,
     "input": [
      "def test_screed_single_threaded(fn):\n",
      "    for r in screed.open(fn):\n",
      "        pass"
     ],
     "language": "python",
     "metadata": {
      "slideshow": {
       "slide_type": "fragment"
      }
     },
     "outputs": [],
     "prompt_number": 6
    },
    {
     "cell_type": "code",
     "collapsed": false,
     "input": [
      "def test_readparser_single_threaded(fn):\n",
      "    for r in khmer.ReadParser(fn):\n",
      "        pass"
     ],
     "language": "python",
     "metadata": {
      "slideshow": {
       "slide_type": "fragment"
      }
     },
     "outputs": [],
     "prompt_number": 7
    },
    {
     "cell_type": "code",
     "collapsed": false,
     "input": [
      "screed_results = {}\n",
      "for _, fn in test_files:\n",
      "    results = %timeit -n 1 -r 10 -o test_screed_single_threaded(fn)\n",
      "    screed_results[fn] = results.all_runs"
     ],
     "language": "python",
     "metadata": {
      "slideshow": {
       "slide_type": "subslide"
      }
     },
     "outputs": [
      {
       "output_type": "stream",
       "stream": "stdout",
       "text": [
        "1 loops, best of 10: 6.24 ms per loop\n",
        "1 loops, best of 10: 62.1 ms per loop"
       ]
      },
      {
       "output_type": "stream",
       "stream": "stdout",
       "text": [
        "\n",
        "1 loops, best of 10: 625 ms per loop"
       ]
      },
      {
       "output_type": "stream",
       "stream": "stdout",
       "text": [
        "\n"
       ]
      }
     ],
     "prompt_number": 26
    },
    {
     "cell_type": "code",
     "collapsed": false,
     "input": [
      "readparser_results = {}\n",
      "for _, fn in test_files:\n",
      "    results = %timeit -n 1 -r 10 -o test_readparser_single_threaded(fn)\n",
      "    readparser_results[fn] = results.all_runs"
     ],
     "language": "python",
     "metadata": {
      "slideshow": {
       "slide_type": "fragment"
      }
     },
     "outputs": [
      {
       "output_type": "stream",
       "stream": "stdout",
       "text": [
        "1 loops, best of 10: 1.41 ms per loop\n",
        "1 loops, best of 10: 12.6 ms per loop"
       ]
      },
      {
       "output_type": "stream",
       "stream": "stdout",
       "text": [
        "\n",
        "1 loops, best of 10: 127 ms per loop"
       ]
      },
      {
       "output_type": "stream",
       "stream": "stdout",
       "text": [
        "\n"
       ]
      }
     ],
     "prompt_number": 27
    },
    {
     "cell_type": "code",
     "collapsed": false,
     "input": [
      "with peasoup.plot.FigManager('single_threaded_time', figsize=norm_size, show=False, ncols=2,\n",
      "                             tight_layout=False, sharey=True) as (fig, ax):\n",
      "\n",
      "    _ = pd.DataFrame(screed_results).boxplot(ax=ax[0], fontsize=16)\n",
      "    ax[0].set_title('$screed$ Time, Single-Threaded')\n",
      "    ax[0].set_ylabel('Exec Time (s)')\n",
      "    _ = pd.DataFrame(readparser_results).boxplot(ax=ax[1], fontsize=16)\n",
      "    ax[1].set_title('$khmer.ReadParser$ Time, Single-Threaded')\n",
      "FileLink('single_threaded_time.svg', )"
     ],
     "language": "python",
     "metadata": {
      "slideshow": {
       "slide_type": "skip"
      }
     },
     "outputs": [
      {
       "html": [
        "<a href='single_threaded_time.svg' target='_blank'>single_threaded_time.svg</a><br>"
       ],
       "metadata": {},
       "output_type": "pyout",
       "prompt_number": 29,
       "text": [
        "/w/fs2014-cse891/final/metrics/single_threaded_time.svg"
       ]
      }
     ],
     "prompt_number": 29
    },
    {
     "cell_type": "markdown",
     "metadata": {
      "slideshow": {
       "slide_type": "subslide"
      }
     },
     "source": [
      "<center>\n",
      "![single-threaded results](single_threaded_time.svg \"\")\n",
      "</center>"
     ]
    },
    {
     "cell_type": "markdown",
     "metadata": {
      "slideshow": {
       "slide_type": "fragment"
      }
     },
     "source": [
      "The first thing we can see is that `khmer.ReadParser` performs significantly better than `screed`, even without taking threading into account. `screed` is not thread-safe; so, how does `khmer.ReadParser` scale with threading?"
     ]
    },
    {
     "cell_type": "markdown",
     "metadata": {
      "slideshow": {
       "slide_type": "slide"
      }
     },
     "source": [
      "### Multi-threaded `khmer.ReadParser`\n",
      "\n",
      "`khmer.ReadParser` is *supposed* to be compatible with python threads. So, let's confirm that's the case."
     ]
    },
    {
     "cell_type": "code",
     "collapsed": false,
     "input": [
      "def test_readparser_threaded(fn, n_threads=4):\n",
      "\n",
      "    import operator\n",
      "    import threading\n",
      "\n",
      "    reads_count_1thr = 0\n",
      "    rparser = khmer.ReadParser(fn)\n",
      "    for read in rparser:\n",
      "        reads_count_1thr += 1\n",
      "\n",
      "    def count_reads(rparser, counters, tnum):\n",
      "        counters[tnum] = reduce(operator.add, (1 for read in rparser))\n",
      "\n",
      "    config = khmer.get_config()\n",
      "    bufsz = config.get_reads_input_buffer_size()\n",
      "    config.set_reads_input_buffer_size(n_threads * 64 * 1024)\n",
      "    threads = []\n",
      "    reads_counts_per_thread = [0] * n_threads\n",
      "    rparser = khmer.ReadParser(fn, n_threads)\n",
      "    for tnum in xrange(n_threads):\n",
      "        t = \\\n",
      "            threading.Thread(\n",
      "                target=count_reads,\n",
      "                args=[rparser, reads_counts_per_thread, tnum]\n",
      "            )\n",
      "        threads.append(t)\n",
      "        t.start()\n",
      "    for t in threads:\n",
      "        t.join()\n",
      "    config.set_reads_input_buffer_size(bufsz)\n",
      "\n",
      "    print reads_count_1thr, reads_counts_per_thread, sum(reads_counts_per_thread)\n",
      "    #assert reads_count_1thr == sum(reads_counts_per_thread)"
     ],
     "language": "python",
     "metadata": {
      "slideshow": {
       "slide_type": "fragment"
      }
     },
     "outputs": [],
     "prompt_number": 12
    },
    {
     "cell_type": "code",
     "collapsed": false,
     "input": [
      "readparser_results = {}\n",
      "for np in range(1,5):\n",
      "    try:\n",
      "        results = %timeit -n 1 -r 20 -o test_readparser_threaded('test-large.fa', np)\n",
      "    except Exception as e:\n",
      "        print e\n",
      "    readparser_results[np] = results.all_runs"
     ],
     "language": "python",
     "metadata": {
      "slideshow": {
       "slide_type": "subslide"
      }
     },
     "outputs": [
      {
       "output_type": "stream",
       "stream": "stdout",
       "text": [
        "100000 [100000] 100000\n",
        "100000"
       ]
      },
      {
       "output_type": "stream",
       "stream": "stdout",
       "text": [
        " [100000] 100000\n",
        "100000"
       ]
      },
      {
       "output_type": "stream",
       "stream": "stdout",
       "text": [
        " [100000] 100000\n",
        "100000"
       ]
      },
      {
       "output_type": "stream",
       "stream": "stdout",
       "text": [
        " [100000] 100000\n",
        "100000"
       ]
      },
      {
       "output_type": "stream",
       "stream": "stdout",
       "text": [
        " [100000] 100000\n",
        "100000"
       ]
      },
      {
       "output_type": "stream",
       "stream": "stdout",
       "text": [
        " [100000] 100000\n",
        "100000"
       ]
      },
      {
       "output_type": "stream",
       "stream": "stdout",
       "text": [
        " [100000] 100000\n",
        "100000"
       ]
      },
      {
       "output_type": "stream",
       "stream": "stdout",
       "text": [
        " [100000] 100000\n",
        "100000"
       ]
      },
      {
       "output_type": "stream",
       "stream": "stdout",
       "text": [
        " [100000] 100000\n",
        "100000"
       ]
      },
      {
       "output_type": "stream",
       "stream": "stdout",
       "text": [
        " [100000] 100000\n",
        "100000"
       ]
      },
      {
       "output_type": "stream",
       "stream": "stdout",
       "text": [
        " [100000] 100000\n",
        "100000"
       ]
      },
      {
       "output_type": "stream",
       "stream": "stdout",
       "text": [
        " [100000] 100000\n",
        "100000"
       ]
      },
      {
       "output_type": "stream",
       "stream": "stdout",
       "text": [
        " [100000] 100000\n",
        "100000"
       ]
      },
      {
       "output_type": "stream",
       "stream": "stdout",
       "text": [
        " [100000] 100000\n",
        "100000"
       ]
      },
      {
       "output_type": "stream",
       "stream": "stdout",
       "text": [
        " [100000] 100000\n",
        "100000"
       ]
      },
      {
       "output_type": "stream",
       "stream": "stdout",
       "text": [
        " [100000] 100000\n",
        "100000"
       ]
      },
      {
       "output_type": "stream",
       "stream": "stdout",
       "text": [
        " [100000] 100000\n",
        "100000"
       ]
      },
      {
       "output_type": "stream",
       "stream": "stdout",
       "text": [
        " [100000] 100000\n",
        "100000"
       ]
      },
      {
       "output_type": "stream",
       "stream": "stdout",
       "text": [
        " [100000] 100000\n",
        "100000"
       ]
      },
      {
       "output_type": "stream",
       "stream": "stdout",
       "text": [
        " [100000] 100000\n",
        "1 loops, best of 20: 278 ms per loop\n",
        "100000"
       ]
      },
      {
       "output_type": "stream",
       "stream": "stdout",
       "text": [
        " [50095, 49902] 99997\n",
        "100000"
       ]
      },
      {
       "output_type": "stream",
       "stream": "stdout",
       "text": [
        " [50095, 49902] 99997\n",
        "100000"
       ]
      },
      {
       "output_type": "stream",
       "stream": "stdout",
       "text": [
        " [50095, 49902] 99997\n",
        "100000"
       ]
      },
      {
       "output_type": "stream",
       "stream": "stdout",
       "text": [
        " [50095, 49902] 99997\n",
        "100000"
       ]
      },
      {
       "output_type": "stream",
       "stream": "stdout",
       "text": [
        " [50095, 49902] 99997\n",
        "100000"
       ]
      },
      {
       "output_type": "stream",
       "stream": "stdout",
       "text": [
        " [50095, 49902] 99997\n",
        "100000"
       ]
      },
      {
       "output_type": "stream",
       "stream": "stdout",
       "text": [
        " [50095, 49902] 99997\n",
        "100000"
       ]
      },
      {
       "output_type": "stream",
       "stream": "stdout",
       "text": [
        " [50095, 49902] 99997\n",
        "100000"
       ]
      },
      {
       "output_type": "stream",
       "stream": "stdout",
       "text": [
        " [50095, 49902] 99997\n",
        "100000"
       ]
      },
      {
       "output_type": "stream",
       "stream": "stdout",
       "text": [
        " [50095, 49902] 99997\n",
        "100000"
       ]
      },
      {
       "output_type": "stream",
       "stream": "stdout",
       "text": [
        " [50095, 49902] 99997\n",
        "100000"
       ]
      },
      {
       "output_type": "stream",
       "stream": "stdout",
       "text": [
        " [50095, 49902] 99997\n",
        "100000"
       ]
      },
      {
       "output_type": "stream",
       "stream": "stdout",
       "text": [
        " [50095, 49902] 99997\n",
        "100000"
       ]
      },
      {
       "output_type": "stream",
       "stream": "stdout",
       "text": [
        " [50095, 49902] 99997\n",
        "100000"
       ]
      },
      {
       "output_type": "stream",
       "stream": "stdout",
       "text": [
        " [50095, 49902] 99997\n",
        "100000"
       ]
      },
      {
       "output_type": "stream",
       "stream": "stdout",
       "text": [
        " [50095, 49902] 99997\n",
        "100000"
       ]
      },
      {
       "output_type": "stream",
       "stream": "stdout",
       "text": [
        " [50095, 49902] 99997\n",
        "100000"
       ]
      },
      {
       "output_type": "stream",
       "stream": "stdout",
       "text": [
        " [50095, 49902] 99997\n",
        "100000"
       ]
      },
      {
       "output_type": "stream",
       "stream": "stdout",
       "text": [
        " [50095, 49902] 99997\n",
        "100000"
       ]
      },
      {
       "output_type": "stream",
       "stream": "stdout",
       "text": [
        " [50095, 49902] 99997\n",
        "1 loops, best of 20: 226 ms per loop\n",
        "100000"
       ]
      },
      {
       "output_type": "stream",
       "stream": "stdout",
       "text": [
        " [33403, 33398, 33196] 99997\n",
        "100000"
       ]
      },
      {
       "output_type": "stream",
       "stream": "stdout",
       "text": [
        " [33403, 33398, 33196] 99997\n",
        "100000"
       ]
      },
      {
       "output_type": "stream",
       "stream": "stdout",
       "text": [
        " [33403, 33398, 33196] 99997\n",
        "100000"
       ]
      },
      {
       "output_type": "stream",
       "stream": "stdout",
       "text": [
        " [33403, 33398, 33196] 99997\n",
        "100000"
       ]
      },
      {
       "output_type": "stream",
       "stream": "stdout",
       "text": [
        " [33403, 33398, 33196] 99997\n",
        "100000"
       ]
      },
      {
       "output_type": "stream",
       "stream": "stdout",
       "text": [
        " [33403, 33398, 33196] 99997\n",
        "100000"
       ]
      },
      {
       "output_type": "stream",
       "stream": "stdout",
       "text": [
        " [33403, 33398, 33196] 99997\n",
        "100000"
       ]
      },
      {
       "output_type": "stream",
       "stream": "stdout",
       "text": [
        " [33403, 33398, 33196] 99997\n",
        "100000"
       ]
      },
      {
       "output_type": "stream",
       "stream": "stdout",
       "text": [
        " [33403, 33398, 33196] 99997\n",
        "100000"
       ]
      },
      {
       "output_type": "stream",
       "stream": "stdout",
       "text": [
        " [33403, 33398, 33196] 99997\n",
        "100000"
       ]
      },
      {
       "output_type": "stream",
       "stream": "stdout",
       "text": [
        " [33403, 33398, 33196] 99997\n",
        "100000"
       ]
      },
      {
       "output_type": "stream",
       "stream": "stdout",
       "text": [
        " [33403, 33398, 33196] 99997\n",
        "100000"
       ]
      },
      {
       "output_type": "stream",
       "stream": "stdout",
       "text": [
        " [33403, 33398, 33196] 99997\n",
        "100000"
       ]
      },
      {
       "output_type": "stream",
       "stream": "stdout",
       "text": [
        " [33403, 33398, 33196] 99997\n",
        "100000"
       ]
      },
      {
       "output_type": "stream",
       "stream": "stdout",
       "text": [
        " [33403, 33398, 33196] 99997\n",
        "100000"
       ]
      },
      {
       "output_type": "stream",
       "stream": "stdout",
       "text": [
        " [33403, 33398, 33196] 99997\n",
        "100000"
       ]
      },
      {
       "output_type": "stream",
       "stream": "stdout",
       "text": [
        " [33403, 33398, 33196] 99997\n",
        "100000"
       ]
      },
      {
       "output_type": "stream",
       "stream": "stdout",
       "text": [
        " [33403, 33398, 33196] 99997\n",
        "100000"
       ]
      },
      {
       "output_type": "stream",
       "stream": "stdout",
       "text": [
        " [33403, 33398, 33196] 99997\n",
        "100000"
       ]
      },
      {
       "output_type": "stream",
       "stream": "stdout",
       "text": [
        " [33403, 33398, 33196] 99997\n",
        "1 loops, best of 20: 276 ms per loop\n",
        "100000"
       ]
      },
      {
       "output_type": "stream",
       "stream": "stdout",
       "text": [
        " [25052, 25048, 25043, 24854] 99997\n",
        "100000"
       ]
      },
      {
       "output_type": "stream",
       "stream": "stdout",
       "text": [
        " [25052, 25048, 25043, 24854] 99997\n",
        "100000"
       ]
      },
      {
       "output_type": "stream",
       "stream": "stdout",
       "text": [
        " [25052, 25048, 25043, 24854] 99997\n",
        "100000"
       ]
      },
      {
       "output_type": "stream",
       "stream": "stdout",
       "text": [
        " [25052, 25048, 24854, 25043] 99997\n",
        "100000"
       ]
      },
      {
       "output_type": "stream",
       "stream": "stdout",
       "text": [
        " [25052, 25048, 25043, 24854] 99997\n",
        "100000"
       ]
      },
      {
       "output_type": "stream",
       "stream": "stdout",
       "text": [
        " [25052, 25048, 25043, 24854] 99997\n",
        "100000"
       ]
      },
      {
       "output_type": "stream",
       "stream": "stdout",
       "text": [
        " [25052, 25048, 25043, 24854] 99997\n",
        "100000"
       ]
      },
      {
       "output_type": "stream",
       "stream": "stdout",
       "text": [
        " [25052, 25048, 25043, 24854] 99997\n",
        "100000"
       ]
      },
      {
       "output_type": "stream",
       "stream": "stdout",
       "text": [
        " [25052, 25048, 25043, 24854] 99997\n",
        "100000"
       ]
      },
      {
       "output_type": "stream",
       "stream": "stdout",
       "text": [
        " [25052, 25048, 25043, 24854] 99997\n",
        "100000"
       ]
      },
      {
       "output_type": "stream",
       "stream": "stdout",
       "text": [
        " [25052, 25048, 25043, 24854] 99997\n",
        "100000"
       ]
      },
      {
       "output_type": "stream",
       "stream": "stdout",
       "text": [
        " [25052, 25048, 25043, 24854] 99997\n",
        "100000"
       ]
      },
      {
       "output_type": "stream",
       "stream": "stdout",
       "text": [
        " [25052, 25048, 25043, 24854] 99997\n",
        "100000"
       ]
      },
      {
       "output_type": "stream",
       "stream": "stdout",
       "text": [
        " [25052, 25048, 25043, 24854] 99997\n",
        "100000"
       ]
      },
      {
       "output_type": "stream",
       "stream": "stdout",
       "text": [
        " [25052, 25048, 25043, 24854] 99997\n",
        "100000"
       ]
      },
      {
       "output_type": "stream",
       "stream": "stdout",
       "text": [
        " [25052, 25048, 25043, 24854] 99997\n",
        "100000"
       ]
      },
      {
       "output_type": "stream",
       "stream": "stdout",
       "text": [
        " [25052, 25048, 25043, 24854] 99997\n",
        "100000"
       ]
      },
      {
       "output_type": "stream",
       "stream": "stdout",
       "text": [
        " [25052, 25048, 25043, 24854] 99997\n",
        "100000"
       ]
      },
      {
       "output_type": "stream",
       "stream": "stdout",
       "text": [
        " [25052, 25048, 25043, 24854] 99997\n",
        "100000"
       ]
      },
      {
       "output_type": "stream",
       "stream": "stdout",
       "text": [
        " [25052, 25048, 25043, 24854] 99997\n",
        "1 loops, best of 20: 259 ms per loop\n"
       ]
      }
     ],
     "prompt_number": 18
    },
    {
     "cell_type": "code",
     "collapsed": false,
     "input": [
      "with peasoup.plot.FigManager('readparser_threaded_time', figsize=norm_size, show=False,\n",
      "                             tight_layout=False) as (fig, ax):\n",
      "\n",
      "    ax.set_ylabel('Exec Time (s)')\n",
      "    ax.set_xlabel('Num Threads')\n",
      "    ax.set_ylim(bottom=0)\n",
      "    _ = pd.DataFrame(readparser_results).boxplot(ax=ax, fontsize=16)\n",
      "    ax.set_title('$khmer.ReadParser$: Total time parsing test-large.fa')\n",
      "FileLink('readparser_threaded_time.svg', )"
     ],
     "language": "python",
     "metadata": {
      "slideshow": {
       "slide_type": "skip"
      }
     },
     "outputs": [
      {
       "html": [
        "<a href='readparser_threaded_time.svg' target='_blank'>readparser_threaded_time.svg</a><br>"
       ],
       "metadata": {},
       "output_type": "pyout",
       "prompt_number": 39,
       "text": [
        "/w/fs2014-cse891/final/metrics/readparser_threaded_time.svg"
       ]
      }
     ],
     "prompt_number": 39
    },
    {
     "cell_type": "markdown",
     "metadata": {
      "slideshow": {
       "slide_type": "subslide"
      }
     },
     "source": [
      "<center>\n",
      "![multi-threaded results](readparser_threaded_time.svg \"\")\n",
      "</center>\n",
      "<h4 align=\"center\">ReadParser scales to two theads, but then drops off</h4>"
     ]
    },
    {
     "cell_type": "markdown",
     "metadata": {
      "slideshow": {
       "slide_type": "subslide"
      }
     },
     "source": [
      "### `khmer.ReadParser`: Larger Files\n",
      "\n",
      "We can see that the threading works, and there is a minor scaling benefit. Does a benefit start to show more clearly for larger filesizes?"
     ]
    },
    {
     "cell_type": "code",
     "collapsed": false,
     "input": [
      "!make-random-transcriptome.py -N 1000000 -L 100 -o test-extra-large.fa"
     ],
     "language": "python",
     "metadata": {
      "slideshow": {
       "slide_type": "fragment"
      }
     },
     "outputs": [],
     "prompt_number": 30
    },
    {
     "cell_type": "code",
     "collapsed": false,
     "input": [
      "readparser_xl_results = {}\n",
      "for np in range(1,5):\n",
      "    try:\n",
      "        results = %timeit -n 1 -r 20 -o test_readparser_threaded('test-extra-large.fa', np)\n",
      "    except Exception as e:\n",
      "        print e\n",
      "    readparser_xl_results[np] = results.all_runs"
     ],
     "language": "python",
     "metadata": {
      "slideshow": {
       "slide_type": "fragment"
      }
     },
     "outputs": [
      {
       "output_type": "stream",
       "stream": "stdout",
       "text": [
        "1000000 [1000000] 1000000\n",
        "1000000"
       ]
      },
      {
       "output_type": "stream",
       "stream": "stdout",
       "text": [
        " [1000000] 1000000\n",
        "1000000"
       ]
      },
      {
       "output_type": "stream",
       "stream": "stdout",
       "text": [
        " [1000000] 1000000\n",
        "1000000"
       ]
      },
      {
       "output_type": "stream",
       "stream": "stdout",
       "text": [
        " [1000000] 1000000\n",
        "1000000"
       ]
      },
      {
       "output_type": "stream",
       "stream": "stdout",
       "text": [
        " [1000000] 1000000\n",
        "1000000"
       ]
      },
      {
       "output_type": "stream",
       "stream": "stdout",
       "text": [
        " [1000000] 1000000\n",
        "1000000"
       ]
      },
      {
       "output_type": "stream",
       "stream": "stdout",
       "text": [
        " [1000000] 1000000\n",
        "1000000"
       ]
      },
      {
       "output_type": "stream",
       "stream": "stdout",
       "text": [
        " [1000000] 1000000\n",
        "1000000"
       ]
      },
      {
       "output_type": "stream",
       "stream": "stdout",
       "text": [
        " [1000000] 1000000\n",
        "1000000"
       ]
      },
      {
       "output_type": "stream",
       "stream": "stdout",
       "text": [
        " [1000000] 1000000\n",
        "1000000"
       ]
      },
      {
       "output_type": "stream",
       "stream": "stdout",
       "text": [
        " [1000000] 1000000\n",
        "1000000"
       ]
      },
      {
       "output_type": "stream",
       "stream": "stdout",
       "text": [
        " [1000000] 1000000\n",
        "1000000"
       ]
      },
      {
       "output_type": "stream",
       "stream": "stdout",
       "text": [
        " [1000000] 1000000\n",
        "1000000"
       ]
      },
      {
       "output_type": "stream",
       "stream": "stdout",
       "text": [
        " [1000000] 1000000\n",
        "1000000"
       ]
      },
      {
       "output_type": "stream",
       "stream": "stdout",
       "text": [
        " [1000000] 1000000\n",
        "1000000"
       ]
      },
      {
       "output_type": "stream",
       "stream": "stdout",
       "text": [
        " [1000000] 1000000\n",
        "1000000"
       ]
      },
      {
       "output_type": "stream",
       "stream": "stdout",
       "text": [
        " [1000000] 1000000\n",
        "1000000"
       ]
      },
      {
       "output_type": "stream",
       "stream": "stdout",
       "text": [
        " [1000000] 1000000\n",
        "1000000"
       ]
      },
      {
       "output_type": "stream",
       "stream": "stdout",
       "text": [
        " [1000000] 1000000\n",
        "1000000"
       ]
      },
      {
       "output_type": "stream",
       "stream": "stdout",
       "text": [
        " [1000000] 1000000\n",
        "1 loops, best of 20: 2.71 s per loop\n",
        "1000000"
       ]
      },
      {
       "output_type": "stream",
       "stream": "stdout",
       "text": [
        " [500000, 499983] 999983\n",
        "1000000"
       ]
      },
      {
       "output_type": "stream",
       "stream": "stdout",
       "text": [
        " [500000, 499983] 999983\n",
        "1000000"
       ]
      },
      {
       "output_type": "stream",
       "stream": "stdout",
       "text": [
        " [500000, 499983] 999983\n",
        "1000000"
       ]
      },
      {
       "output_type": "stream",
       "stream": "stdout",
       "text": [
        " [500000, 499983] 999983\n",
        "1000000"
       ]
      },
      {
       "output_type": "stream",
       "stream": "stdout",
       "text": [
        " [500000, 499983] 999983\n",
        "1000000"
       ]
      },
      {
       "output_type": "stream",
       "stream": "stdout",
       "text": [
        " [500000, 499983] 999983\n",
        "1000000"
       ]
      },
      {
       "output_type": "stream",
       "stream": "stdout",
       "text": [
        " [500000, 499983] 999983\n",
        "1000000"
       ]
      },
      {
       "output_type": "stream",
       "stream": "stdout",
       "text": [
        " [500000, 499983] 999983\n",
        "1000000"
       ]
      },
      {
       "output_type": "stream",
       "stream": "stdout",
       "text": [
        " [500000, 499983] 999983\n",
        "1000000"
       ]
      },
      {
       "output_type": "stream",
       "stream": "stdout",
       "text": [
        " [500000, 499983] 999983\n",
        "1000000"
       ]
      },
      {
       "output_type": "stream",
       "stream": "stdout",
       "text": [
        " [500000, 499983] 999983\n",
        "1000000"
       ]
      },
      {
       "output_type": "stream",
       "stream": "stdout",
       "text": [
        " [500000, 499983] 999983\n",
        "1000000"
       ]
      },
      {
       "output_type": "stream",
       "stream": "stdout",
       "text": [
        " [500000, 499983] 999983\n",
        "1000000"
       ]
      },
      {
       "output_type": "stream",
       "stream": "stdout",
       "text": [
        " [500000, 499983] 999983\n",
        "1000000"
       ]
      },
      {
       "output_type": "stream",
       "stream": "stdout",
       "text": [
        " [500000, 499983] 999983\n",
        "1000000"
       ]
      },
      {
       "output_type": "stream",
       "stream": "stdout",
       "text": [
        " [500000, 499983] 999983\n",
        "1000000"
       ]
      },
      {
       "output_type": "stream",
       "stream": "stdout",
       "text": [
        " [500000, 499983] 999983\n",
        "1000000"
       ]
      },
      {
       "output_type": "stream",
       "stream": "stdout",
       "text": [
        " [500000, 499983] 999983\n",
        "1000000"
       ]
      },
      {
       "output_type": "stream",
       "stream": "stdout",
       "text": [
        " [500000, 499983] 999983\n",
        "1000000"
       ]
      },
      {
       "output_type": "stream",
       "stream": "stdout",
       "text": [
        " [500000, 499983] 999983\n",
        "1 loops, best of 20: 2.24 s per loop\n",
        "1000000"
       ]
      },
      {
       "output_type": "stream",
       "stream": "stdout",
       "text": [
        " [333346, 333324, 333313] 999983\n",
        "1000000"
       ]
      },
      {
       "output_type": "stream",
       "stream": "stdout",
       "text": [
        " [333346, 333324, 333313] 999983\n",
        "1000000"
       ]
      },
      {
       "output_type": "stream",
       "stream": "stdout",
       "text": [
        " [333346, 333324, 333313] 999983\n",
        "1000000"
       ]
      },
      {
       "output_type": "stream",
       "stream": "stdout",
       "text": [
        " [333346, 333324, 333313] 999983\n",
        "1000000"
       ]
      },
      {
       "output_type": "stream",
       "stream": "stdout",
       "text": [
        " [333346, 333324, 333313] 999983\n",
        "1000000"
       ]
      },
      {
       "output_type": "stream",
       "stream": "stdout",
       "text": [
        " [333346, 333324, 333313] 999983\n",
        "1000000"
       ]
      },
      {
       "output_type": "stream",
       "stream": "stdout",
       "text": [
        " [333346, 333324, 333313] 999983\n",
        "1000000"
       ]
      },
      {
       "output_type": "stream",
       "stream": "stdout",
       "text": [
        " [333346, 333324, 333313] 999983\n",
        "1000000"
       ]
      },
      {
       "output_type": "stream",
       "stream": "stdout",
       "text": [
        " [333346, 333324, 333313] 999983\n",
        "1000000"
       ]
      },
      {
       "output_type": "stream",
       "stream": "stdout",
       "text": [
        " [333346, 333324, 333313] 999983\n",
        "1000000"
       ]
      },
      {
       "output_type": "stream",
       "stream": "stdout",
       "text": [
        " [333346, 333324, 333313] 999983\n",
        "1000000"
       ]
      },
      {
       "output_type": "stream",
       "stream": "stdout",
       "text": [
        " [333346, 333324, 333313] 999983\n",
        "1000000"
       ]
      },
      {
       "output_type": "stream",
       "stream": "stdout",
       "text": [
        " [333346, 333324, 333313] 999983\n",
        "1000000"
       ]
      },
      {
       "output_type": "stream",
       "stream": "stdout",
       "text": [
        " [333346, 333324, 333313] 999983\n",
        "1000000"
       ]
      },
      {
       "output_type": "stream",
       "stream": "stdout",
       "text": [
        " [333346, 333324, 333313] 999983\n",
        "1000000"
       ]
      },
      {
       "output_type": "stream",
       "stream": "stdout",
       "text": [
        " [333346, 333324, 333313] 999983\n",
        "1000000"
       ]
      },
      {
       "output_type": "stream",
       "stream": "stdout",
       "text": [
        " [333346, 333324, 333313] 999983\n",
        "1000000"
       ]
      },
      {
       "output_type": "stream",
       "stream": "stdout",
       "text": [
        " [333346, 333324, 333313] 999983\n",
        "1000000"
       ]
      },
      {
       "output_type": "stream",
       "stream": "stdout",
       "text": [
        " [333346, 333324, 333313] 999983\n",
        "1000000"
       ]
      },
      {
       "output_type": "stream",
       "stream": "stdout",
       "text": [
        " [333346, 333324, 333313] 999983\n",
        "1 loops, best of 20: 2.76 s per loop\n",
        "1000000"
       ]
      },
      {
       "output_type": "stream",
       "stream": "stdout",
       "text": [
        " [250013, 249994, 249987, 249989] 999983\n",
        "1000000"
       ]
      },
      {
       "output_type": "stream",
       "stream": "stdout",
       "text": [
        " [250013, 249994, 249987, 249989] 999983\n",
        "1000000"
       ]
      },
      {
       "output_type": "stream",
       "stream": "stdout",
       "text": [
        " [250013, 249994, 249987, 249989] 999983\n",
        "1000000"
       ]
      },
      {
       "output_type": "stream",
       "stream": "stdout",
       "text": [
        " [250013, 249994, 249987, 249989] 999983\n",
        "1000000"
       ]
      },
      {
       "output_type": "stream",
       "stream": "stdout",
       "text": [
        " [250013, 249994, 249987, 249989] 999983\n",
        "1000000"
       ]
      },
      {
       "output_type": "stream",
       "stream": "stdout",
       "text": [
        " [250013, 249994, 249987, 249989] 999983\n",
        "1000000"
       ]
      },
      {
       "output_type": "stream",
       "stream": "stdout",
       "text": [
        " [250013, 249994, 249987, 249989] 999983\n",
        "1000000"
       ]
      },
      {
       "output_type": "stream",
       "stream": "stdout",
       "text": [
        " [250013, 249994, 249987, 249989] 999983\n",
        "1000000"
       ]
      },
      {
       "output_type": "stream",
       "stream": "stdout",
       "text": [
        " [250013, 249994, 249987, 249989] 999983\n",
        "1000000"
       ]
      },
      {
       "output_type": "stream",
       "stream": "stdout",
       "text": [
        " [250013, 249994, 249987, 249989] 999983\n",
        "1000000"
       ]
      },
      {
       "output_type": "stream",
       "stream": "stdout",
       "text": [
        " [250013, 249987, 249994, 249989] 999983\n",
        "1000000"
       ]
      },
      {
       "output_type": "stream",
       "stream": "stdout",
       "text": [
        " [250013, 249994, 249987, 249989] 999983\n",
        "1000000"
       ]
      },
      {
       "output_type": "stream",
       "stream": "stdout",
       "text": [
        " [250013, 249994, 249987, 249989] 999983\n",
        "1000000"
       ]
      },
      {
       "output_type": "stream",
       "stream": "stdout",
       "text": [
        " [250013, 249994, 249987, 249989] 999983\n",
        "1000000"
       ]
      },
      {
       "output_type": "stream",
       "stream": "stdout",
       "text": [
        " [250013, 249994, 249987, 249989] 999983\n",
        "1000000"
       ]
      },
      {
       "output_type": "stream",
       "stream": "stdout",
       "text": [
        " [250013, 249994, 249987, 249989] 999983\n",
        "1000000"
       ]
      },
      {
       "output_type": "stream",
       "stream": "stdout",
       "text": [
        " [250013, 249994, 249987, 249989] 999983\n",
        "1000000"
       ]
      },
      {
       "output_type": "stream",
       "stream": "stdout",
       "text": [
        " [250013, 249994, 249987, 249989] 999983\n",
        "1000000"
       ]
      },
      {
       "output_type": "stream",
       "stream": "stdout",
       "text": [
        " [250013, 249994, 249987, 249989] 999983\n",
        "1000000"
       ]
      },
      {
       "output_type": "stream",
       "stream": "stdout",
       "text": [
        " [250013, 249994, 249987, 249989] 999983\n",
        "1 loops, best of 20: 2.65 s per loop\n"
       ]
      }
     ],
     "prompt_number": 31
    },
    {
     "cell_type": "code",
     "collapsed": false,
     "input": [
      "with peasoup.plot.FigManager('readparser_xl_threaded_time', figsize=norm_size,\n",
      "                             tight_layout=False, show=False) as (fig, ax):\n",
      "\n",
      "    ax.set_ylabel('Exec Time (s)')\n",
      "    ax.set_xlabel('Num Threads')\n",
      "    _ = pd.DataFrame(readparser_xl_results).boxplot(ax=ax, fontsize=16)\n",
      "    ax.set_title('$khmer.ReadParser$: Total time parsing test-extra-large.fa')\n",
      "    ax.set_ylim(bottom=0)\n",
      "FileLink('readparser_xl_threaded_time.svg')"
     ],
     "language": "python",
     "metadata": {
      "slideshow": {
       "slide_type": "skip"
      }
     },
     "outputs": [
      {
       "html": [
        "<a href='readparser_xl_threaded_time.svg' target='_blank'>readparser_xl_threaded_time.svg</a><br>"
       ],
       "metadata": {},
       "output_type": "pyout",
       "prompt_number": 40,
       "text": [
        "/w/fs2014-cse891/final/metrics/readparser_xl_threaded_time.svg"
       ]
      }
     ],
     "prompt_number": 40
    },
    {
     "cell_type": "markdown",
     "metadata": {
      "slideshow": {
       "slide_type": "subslide"
      }
     },
     "source": [
      "<center>\n",
      "![multi-threaded results](readparser_xl_threaded_time.svg \"\")\n",
      "</center>\n",
      "<h4 align=\"center\">Results with 1m reads are similar</h4>"
     ]
    }
   ],
   "metadata": {}
  }
 ]
}