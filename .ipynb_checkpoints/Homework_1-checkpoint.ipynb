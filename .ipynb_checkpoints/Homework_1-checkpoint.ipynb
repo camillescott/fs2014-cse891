{
 "metadata": {
  "name": "",
  "signature": "sha256:e81ea6fdf4628e180214dabcdc1dde7112201af94021b4d014c81c708dec1a9b"
 },
 "nbformat": 3,
 "nbformat_minor": 0,
 "worksheets": [
  {
   "cells": [
    {
     "cell_type": "heading",
     "level": 1,
     "metadata": {},
     "source": [
      "CSE891 Homework 1"
     ]
    },
    {
     "cell_type": "markdown",
     "metadata": {},
     "source": [
      "Camille Welcher\n"
     ]
    },
    {
     "cell_type": "code",
     "collapsed": false,
     "input": [
      "import pandas as pd\n",
      "import numpy as np\n",
      "import seaborn as sns"
     ],
     "language": "python",
     "metadata": {},
     "outputs": [],
     "prompt_number": 3
    },
    {
     "cell_type": "heading",
     "level": 2,
     "metadata": {},
     "source": [
      "Problem 1"
     ]
    },
    {
     "cell_type": "markdown",
     "metadata": {},
     "source": [
      "_Consider a multi-core CPU with $p$ cores. The peak single-precision performance of each core is 10 GFlops/s. The peak bandwidth for the memory bus is 60 GB/s. Assume that you are evaluating a polynomial of the form, $x = y^2+z^3+yz$, which can be implemented as follows:_\n",
      "           \n",
      "        float x[N], y[N], z[N];\n",
      "        for (i=0; i < N; ++i)\n",
      "            x[i] = y[i]*y[i] + z[i]*z[i]*z[i] + y[i]*z[i];"
     ]
    },
    {
     "cell_type": "heading",
     "level": 3,
     "metadata": {},
     "source": [
      "Part A"
     ]
    },
    {
     "cell_type": "markdown",
     "metadata": {},
     "source": [
      "_What is the arithmetic intensity (flops/byte) of each iteration of the loop? Think of how many bytes need to be transferred over the memory bus (both reads and writes) and how many floating point operations are performed._\n",
      "    \n",
      "For each iteration, there are 6 floating point ops (4 mults, 2 adds). There is 1 write (the assignment of `x[i]`) and there are 2 reads (`y[i]` and `z[i]`), assuming that once we've fetched a value from memory, we can use the cached value for repeated uses; with single precision, each r/w is 4 bytes, so we get 12 bytes total. This means that our arithmetic intensity is $6/12 = .5 \\text{ flops/byte}$."
     ]
    },
    {
     "cell_type": "heading",
     "level": 3,
     "metadata": {},
     "source": [
      "Part B"
     ]
    },
    {
     "cell_type": "markdown",
     "metadata": {},
     "source": [
      "_Plot the theoretical peak performance of the system (GFlops/s) as a function of the number of cores, where $1 \\leq p \\leq 8$. For what values of p would this computation\u2019s performance be compute-bound and for what values would it be memory-bound?_"
     ]
    },
    {
     "cell_type": "code",
     "collapsed": false,
     "input": [
      "X_p = np.arange(1,9)\n",
      "flops_func = np.vectorize(lambda x: min(x * 10, 60 * .5))\n",
      "Y_f = flops_func(X_p)\n",
      "plot(X_p, Y_f)\n",
      "xlabel('Cores')\n",
      "ylabel('Peak GFlops/S')\n",
      "title('Max GFlop/S as a function of Cores')\n",
      "axis(ymax=50, ymin=0)\n",
      "savefig('1a.png')"
     ],
     "language": "python",
     "metadata": {},
     "outputs": [
      {
       "metadata": {},
       "output_type": "display_data",
       "png": "[encoded data removed]",
       "text": [
        "<matplotlib.figure.Figure at 0x1061a7e10>"
       ]
      }
     ],
     "prompt_number": 4
    },
    {
     "cell_type": "markdown",
     "metadata": {},
     "source": [
      "In a completely ideal system, GFlops/S would continue to scale with the number of cores until saturating the memory bus; there are 2 bytes of memory used per 1 flop, so we saturate the memory bus at 3 cores and 30 GFlops/S. Under 3 cores, we are  compute bound, and over, we are memory bound."
     ]
    },
    {
     "cell_type": "heading",
     "level": 3,
     "metadata": {},
     "source": [
      "Part C"
     ]
    },
    {
     "cell_type": "markdown",
     "metadata": {},
     "source": [
      "_Repeat A and B for the same computation but this time in double-precision (i.e. double x[N], y[N], z[N]). The peak double-precision performance per core is half of its single- precision peak - 5 GFlops/s._\n",
      "\n",
      "Now, $q=0.25$, as we've doubled the number of bytes. We still saturate the memory bus at 3 cores, but peak performance is now limited to 15 GFlops/S."
     ]
    },
    {
     "cell_type": "code",
     "collapsed": false,
     "input": [
      "X_p = np.arange(1,9)\n",
      "flops_func = np.vectorize(lambda x: min(x * 5, 60 * .25))\n",
      "Y_f = flops_func(X_p)\n",
      "plot(X_p, Y_f)\n",
      "xlabel('Cores')\n",
      "ylabel('Peak GFlops/S')\n",
      "title('Max GFlop/S as a function of Cores')\n",
      "axis(ymax=50, ymin=0)\n",
      "savefig('1c.png')"
     ],
     "language": "python",
     "metadata": {},
     "outputs": [
      {
       "metadata": {},
       "output_type": "display_data",
       "png": "[encoded data removed]",
       "text": [
        "<matplotlib.figure.Figure at 0x106196810>"
       ]
      }
     ],
     "prompt_number": 5
    },
    {
     "cell_type": "heading",
     "level": 2,
     "metadata": {},
     "source": [
      "Problem 2"
     ]
    },
    {
     "cell_type": "markdown",
     "metadata": {},
     "source": [
      "_Consider the same architecture as above - $p$ cores, each with 5 GFlops/s peak double-\n",
      "precision performance and 60 GB/s memory bandwidth. Let there be only a single level of\n",
      "cache with a total bandwidth of 300 GB/s (from cache to all cores). Now assume that your\n",
      "computational kernel has an arithmetic intensity of 0.125 flops/byte and a cache hit ratio of\n",
      "50%. Plot the performance of the system as a function of the number of cores p. Denote the\n",
      "ranges for p, where the peak performance is bound by the CPU, the memory bandwidth and\n",
      "the cache bandwidth (if applicable)._"
     ]
    },
    {
     "cell_type": "code",
     "collapsed": false,
     "input": [
      "B_cache = 300.0\n",
      "B_mem = 60.0\n",
      "F_p = 5.0\n",
      "q = .125\n",
      "\n",
      "X_p = np.arange(1,9)\n",
      "\n",
      "def flops_func(ncores, cmr=.5):\n",
      "\n",
      "    cpu_perf = ncores * F_p\n",
      "    bytes = float(cpu_perf) / q\n",
      "    max_cache_bytes = B_cache * cmr\n",
      "    if bytes < max_cache_bytes:\n",
      "        return cpu_perf\n",
      "    bytes_to_mem = bytes - max_cache_bytes\n",
      "    if bytes_to_mem < B_mem:\n",
      "        return max_cache_bytes * q + bytes_to_mem * q\n",
      "    else:\n",
      "        return max_cache_bytes * q + B_mem * q\n",
      "\n",
      "v_flops_func = np.vectorize(flops_func)\n",
      "\n",
      "for cmr in [.5, .7, .9]:\n",
      "    Y_f = v_flops_func(X_p, cmr=cmr)\n",
      "    plot(X_p, Y_f, label='Cache hit ratio={}'.format(cmr))\n",
      "\n",
      "vlines(5, 0, 50, label='cache bound')\n",
      "    \n",
      "xlabel('Cores')\n",
      "ylabel('Peak GFlops/S')\n",
      "title('Max GFlop/S as a function of Cores')\n",
      "axis(ymax=50, ymin=0)\n",
      "legend()\n",
      "savefig('2.png')"
     ],
     "language": "python",
     "metadata": {},
     "outputs": [
      {
       "metadata": {},
       "output_type": "display_data",
       "png": "[encoded data removed]",
       "text": [
        "<matplotlib.figure.Figure at 0x106317190>"
       ]
      }
     ],
     "prompt_number": 6
    },
    {
     "cell_type": "heading",
     "level": 2,
     "metadata": {},
     "source": [
      "Problem 3"
     ]
    },
    {
     "cell_type": "markdown",
     "metadata": {},
     "source": [
      "_Assume you are the director of Simulation University\u2019s HPC center and you are given a\n",
      "\\$1 million budget (you may go over the budget by up to 2% if you have a good justification\n",
      "to do so) to purchase a new system. You did some market research and found out that the\n",
      "compute nodes you like cost \\$5,000/node and each interconnect link (together with the\n",
      "necessary network hardware) costs \\$1000/piece. You did a survey among the HPC center!\n",
      "users and (on average) they rated the utility of an additional compute node as 5 and the\n",
      "utility of increasing the bisection bandwidth of the network by one link as 3. Think of the\n",
      "network topologies we discussed in class - bus, ring, 2D/3D torus (or k-D torus), hypercube,tree or a fat-tree. How many nodes would you buy and how would you connect them? What\n",
      "if the users rate the compute vs. communicate utilities as 5 vs 1?_"
     ]
    },
    {
     "cell_type": "heading",
     "level": 3,
     "metadata": {},
     "source": [
      "Utility = (5,3)"
     ]
    },
    {
     "cell_type": "code",
     "collapsed": false,
     "input": [
      "B = 1000000.0"
     ],
     "language": "python",
     "metadata": {},
     "outputs": [],
     "prompt_number": 11
    },
    {
     "cell_type": "code",
     "collapsed": false,
     "input": [
      "def utility(D, b, u_d=5, u_b=3):\n",
      "    return D * u_d + b * u_b"
     ],
     "language": "python",
     "metadata": {},
     "outputs": [],
     "prompt_number": 12
    },
    {
     "cell_type": "code",
     "collapsed": false,
     "input": [
      "def cost_ring(p, cp=5000, cl=1000):\n",
      "    return int(p) * cp + cl * p\n",
      "# return D, edges, bisect\n",
      "def stat_ring(p):\n",
      "    return int(p) / 2, p, 2\n",
      "v_cost_ring = np.vectorize(cost_ring)"
     ],
     "language": "python",
     "metadata": {},
     "outputs": [],
     "prompt_number": 13
    },
    {
     "cell_type": "code",
     "collapsed": false,
     "input": [
      "X_p = np.arange(0,300)\n",
      "c = v_cost_ring(X_p)\n",
      "plot(X_p, c)\n",
      "axis(ymax=B)\n",
      "max_p_ring = np.argmax(c[c <= B])\n",
      "print 'Max nodes for budget:', max_p_ring\n",
      "savefig('3a.png')"
     ],
     "language": "python",
     "metadata": {},
     "outputs": [
      {
       "output_type": "stream",
       "stream": "stdout",
       "text": [
        "Max nodes for budget: 166\n"
       ]
      },
      {
       "metadata": {},
       "output_type": "display_data",
       "png": "[encoded data removed]",
       "text": [
        "<matplotlib.figure.Figure at 0x1061e7450>"
       ]
      }
     ],
     "prompt_number": 14
    },
    {
     "cell_type": "code",
     "collapsed": false,
     "input": [
      "D, e, b = stat_ring(max_p_ring)\n",
      "print 'Utility of ring with {} nodes:'.format(max_p_ring), utility(D, b)"
     ],
     "language": "python",
     "metadata": {},
     "outputs": [
      {
       "output_type": "stream",
       "stream": "stdout",
       "text": [
        "Utility of ring with 166 nodes: 421\n"
       ]
      }
     ],
     "prompt_number": 15
    },
    {
     "cell_type": "code",
     "collapsed": false,
     "input": [
      "def cost_torus(p, k, cp=5000, cl=1000):\n",
      "    return int(p) * cp + k * cl * p\n",
      "# return D, edges, bisect\n",
      "def stat_torus(p, k):\n",
      "    return int(k) * int(p)/2, int(k) * int(p), 2 * p\n",
      "v_cost_torus = np.vectorize(cost_torus)"
     ],
     "language": "python",
     "metadata": {},
     "outputs": [],
     "prompt_number": 16
    },
    {
     "cell_type": "code",
     "collapsed": false,
     "input": [
      "X_p = np.arange(0,300)\n",
      "max_p_torus = []\n",
      "for k in range(2,6):\n",
      "    c = v_cost_torus(X_p, k)\n",
      "    plot(X_p, c, label='k={}'.format(k))\n",
      "    m = np.argmax(c[c <= B])\n",
      "    max_p_torus.append((m, k))\n",
      "    print 'Max nodes for budget at k={}:'.format(k), m\n",
      "axis(ymax=B)\n",
      "legend()\n",
      "savefig('3b.png')"
     ],
     "language": "python",
     "metadata": {},
     "outputs": [
      {
       "output_type": "stream",
       "stream": "stdout",
       "text": [
        "Max nodes for budget at k=2: 142\n",
        "Max nodes for budget at k=3: 125\n",
        "Max nodes for budget at k=4: 111\n",
        "Max nodes for budget at k=5: 100\n"
       ]
      },
      {
       "metadata": {},
       "output_type": "display_data",
       "png": "[encoded data removed]",
       "text": [
        "<matplotlib.figure.Figure at 0x105fc4990>"
       ]
      }
     ],
     "prompt_number": 17
    },
    {
     "cell_type": "code",
     "collapsed": false,
     "input": [
      "for p, k in max_p_torus:\n",
      "    D, e, b = stat_torus(p, k)\n",
      "    print 'Utility of torus with {} nodes, k={}:'.format(p, k), utility(D, b)"
     ],
     "language": "python",
     "metadata": {},
     "outputs": [
      {
       "output_type": "stream",
       "stream": "stdout",
       "text": [
        "Utility of torus with 142 nodes, k=2: 1562\n",
        "Utility of torus with 125 nodes, k=3: 1685\n",
        "Utility of torus with 111 nodes, k=4: 1776\n",
        "Utility of torus with 100 nodes, k=5: 1850\n"
       ]
      }
     ],
     "prompt_number": 18
    },
    {
     "cell_type": "code",
     "collapsed": false,
     "input": [
      "def cost_tree(p, cp=5000, cl=1000):\n",
      "    return int(p) * cp + cl * p * log2(p)\n",
      "# return D, edges, bisect\n",
      "def stat_tree(p):\n",
      "    return 2 * log2(p), int(p) * int(log2(p)), int(p/2)\n",
      "v_cost_tree = np.vectorize(cost_tree)"
     ],
     "language": "python",
     "metadata": {},
     "outputs": [],
     "prompt_number": 19
    },
    {
     "cell_type": "code",
     "collapsed": false,
     "input": [
      "X_p = np.arange(0,300)\n",
      "c = v_cost_tree(X_p)\n",
      "plot(X_p, c)\n",
      "axis(ymax=B)\n",
      "max_p_tree = np.argmax(c[c <= B])\n",
      "savefig('3c.png')"
     ],
     "language": "python",
     "metadata": {},
     "outputs": [
      {
       "metadata": {},
       "output_type": "display_data",
       "png": "[encoded data removed]",
       "text": [
        "<matplotlib.figure.Figure at 0x105f8e850>"
       ]
      }
     ],
     "prompt_number": 20
    },
    {
     "cell_type": "code",
     "collapsed": false,
     "input": [
      "D, e, b = stat_tree(max_p_tree)\n",
      "print 'Utility of fat tree with {} nodes:'.format(max_p_tree), utility(D, b)"
     ],
     "language": "python",
     "metadata": {},
     "outputs": [
      {
       "output_type": "stream",
       "stream": "stdout",
       "text": [
        "Utility of fat tree with 86 nodes: 193.262647547\n"
       ]
      }
     ],
     "prompt_number": 21
    },
    {
     "cell_type": "markdown",
     "metadata": {},
     "source": [
      "With our budget and the given utility values, I would choose a 5-D 100-ary torus; this is 100 nodes and 500 links."
     ]
    },
    {
     "cell_type": "heading",
     "level": 3,
     "metadata": {},
     "source": [
      "Utility = (5,1)"
     ]
    },
    {
     "cell_type": "code",
     "collapsed": false,
     "input": [
      "D, e, b = stat_ring(max_p_ring)\n",
      "print 'Utility of ring with {} nodes:'.format(max_p_ring), utility(D, b, u_b=1)"
     ],
     "language": "python",
     "metadata": {},
     "outputs": [
      {
       "output_type": "stream",
       "stream": "stdout",
       "text": [
        "Utility of ring with 166 nodes: 417\n"
       ]
      }
     ],
     "prompt_number": 22
    },
    {
     "cell_type": "code",
     "collapsed": false,
     "input": [
      "for p, k in max_p_torus:\n",
      "    D, e, b = stat_torus(p, k)\n",
      "    print 'Utility of torus with {} nodes, k={}:'.format(p, k), utility(D, b, u_b=1)"
     ],
     "language": "python",
     "metadata": {},
     "outputs": [
      {
       "output_type": "stream",
       "stream": "stdout",
       "text": [
        "Utility of torus with 142 nodes, k=2: 994\n",
        "Utility of torus with 125 nodes, k=3: 1185\n",
        "Utility of torus with 111 nodes, k=4: 1332\n",
        "Utility of torus with 100 nodes, k=5: 1450\n"
       ]
      }
     ],
     "prompt_number": 23
    },
    {
     "cell_type": "code",
     "collapsed": false,
     "input": [
      "D, e, b = stat_tree(max_p_tree)\n",
      "print 'Utility of fat tree with {} nodes:'.format(max_p_tree), utility(D, b, u_b=1)"
     ],
     "language": "python",
     "metadata": {},
     "outputs": [
      {
       "output_type": "stream",
       "stream": "stdout",
       "text": [
        "Utility of fat tree with 86 nodes: 107.262647547\n"
       ]
      }
     ],
     "prompt_number": 24
    },
    {
     "cell_type": "markdown",
     "metadata": {},
     "source": [
      "The 5-D torus still wins out, although lower dimensions inch up in value. This analysis also doesn't factor in some of the complexity of constructing torus networks, or the potential variable bisection bandwidths of a fat-tree."
     ]
    },
    {
     "cell_type": "heading",
     "level": 2,
     "metadata": {},
     "source": [
      "Problem 4"
     ]
    },
    {
     "cell_type": "markdown",
     "metadata": {},
     "source": [
      "_The outer product is a commonly used tensor operation. The input is two vectors of length N\n",
      "and M. The result is a matrix of dimensions N by M. In code it would look as follows:_\n",
      "\n",
      "    double x[N], y[M], A[N][M];\n",
      "        for (i=0; i<N; ++i)\n",
      "            for (j=0; j<M; ++j)\n",
      "                A[i][j] = x[i]*y[j];"
     ]
    },
    {
     "cell_type": "heading",
     "level": 3,
     "metadata": {},
     "source": [
      "Part A"
     ]
    },
    {
     "cell_type": "markdown",
     "metadata": {},
     "source": [
      "_Assume that there is only a single level of cache of size 64 KBs, a cache line is 64 bytes\n",
      "and the Least Recently Used (LRU) policy is adopted for cache eviction. For N = M =\n",
      "1024, how many cache misses would the implementation above incur?_"
     ]
    },
    {
     "cell_type": "code",
     "collapsed": false,
     "input": [
      "print 'cache holds', 64000 / 8, 'doubles, cache line is 8 doubles'"
     ],
     "language": "python",
     "metadata": {},
     "outputs": [
      {
       "output_type": "stream",
       "stream": "stdout",
       "text": [
        "cache holds 8000 doubles, cache line is 8 doubles\n"
       ]
      }
     ],
     "prompt_number": 25
    },
    {
     "cell_type": "markdown",
     "metadata": {},
     "source": [
      "`x[N]` and `y[N]` can both reside entirely in cache, consuming 2048 of our 8000 doubles. Misses should only occur when writing into `A`. With a 64 byte cache line that can store 8 doubles, we get $(M * N) / 8$ misses, or 131,072."
     ]
    },
    {
     "cell_type": "heading",
     "level": 3,
     "metadata": {},
     "source": [
      "Part B"
     ]
    },
    {
     "cell_type": "markdown",
     "metadata": {},
     "source": [
      "_Repeat A, but now for N = M = 10240._"
     ]
    },
    {
     "cell_type": "markdown",
     "metadata": {},
     "source": [
      "Now we cannot store the entirity of `x` and `y` in cache. Each of the $N$ iterations of the outer loop will cause a miss, and we'll have $M / 8$ misses for accessing `y` and $M / 8$ misses for writing into `A`, giving a total of $N * (M/4)$ misses, or 26,214,400 total."
     ]
    },
    {
     "cell_type": "heading",
     "level": 3,
     "metadata": {},
     "source": [
      "Part C"
     ]
    },
    {
     "cell_type": "markdown",
     "metadata": {},
     "source": [
      "_Based on your insights from 4.A and 4.B, give the pseudo-code for a high performance\n",
      "outer product implementation with a reduced number of cache misses._"
     ]
    },
    {
     "cell_type": "markdown",
     "metadata": {},
     "source": [
      "Pseudocode:\n",
      "\n",
      "    S = floor((cache_size / 8) / 3)\n",
      "    for s_i in 0..N/S:\n",
      "        loadCache(x[s_i*S:(i+1)*S])\n",
      "        for s_j in 0..M/S:\n",
      "            loadCache(y[s_j*S:(j+1)*S])\n",
      "            loadCache(A[s_i*S:(s_i+1)*S, s_j*S:(s_j+1)*S])\n",
      "            for ii in s_i*S..(s_i+1)*S:\n",
      "                for jj in s_j*S..(s_j+1)*S:\n",
      "                    A[ii,jj] = x[ii] * y[jj]\n",
      "\n",
      "Thus, the idea is to subdivide `A` into square submatrices, such that we can load the ranges of `x` and `y` and single row of the submatrix of `A` into memory for each submatrix. Traversal order would follow the pattern of the following matrix:"
     ]
    },
    {
     "cell_type": "code",
     "collapsed": false,
     "input": [
      "N = 25\n",
      "A = np.zeros((N,N))\n",
      "S = 5\n",
      "z = 0\n",
      "for s_i in range(N/S):\n",
      "    for s_j in range(N/S):\n",
      "        z += 1\n",
      "        for ii in range(s_i * S, (s_i + 1) * S):\n",
      "            for jj in range(s_j * S, (s_j + 1) * S):\n",
      "                A[ii,jj] = z"
     ],
     "language": "python",
     "metadata": {},
     "outputs": [],
     "prompt_number": 26
    },
    {
     "cell_type": "code",
     "collapsed": false,
     "input": [
      "A[0:10,0:10]"
     ],
     "language": "python",
     "metadata": {},
     "outputs": [
      {
       "metadata": {},
       "output_type": "pyout",
       "prompt_number": 27,
       "text": [
        "array([[ 1.,  1.,  1.,  1.,  1.,  2.,  2.,  2.,  2.,  2.],\n",
        "       [ 1.,  1.,  1.,  1.,  1.,  2.,  2.,  2.,  2.,  2.],\n",
        "       [ 1.,  1.,  1.,  1.,  1.,  2.,  2.,  2.,  2.,  2.],\n",
        "       [ 1.,  1.,  1.,  1.,  1.,  2.,  2.,  2.,  2.,  2.],\n",
        "       [ 1.,  1.,  1.,  1.,  1.,  2.,  2.,  2.,  2.,  2.],\n",
        "       [ 6.,  6.,  6.,  6.,  6.,  7.,  7.,  7.,  7.,  7.],\n",
        "       [ 6.,  6.,  6.,  6.,  6.,  7.,  7.,  7.,  7.,  7.],\n",
        "       [ 6.,  6.,  6.,  6.,  6.,  7.,  7.,  7.,  7.,  7.],\n",
        "       [ 6.,  6.,  6.,  6.,  6.,  7.,  7.,  7.,  7.,  7.],\n",
        "       [ 6.,  6.,  6.,  6.,  6.,  7.,  7.,  7.,  7.,  7.]])"
       ]
      }
     ],
     "prompt_number": 27
    }
   ],
   "metadata": {}
  }
 ]
}